{
 "cells": [
  {
   "cell_type": "markdown",
   "metadata": {},
   "source": [
    "# Quiz 3\n",
    "\n",
    "**Author:**"
   ]
  },
  {
   "cell_type": "markdown",
   "metadata": {},
   "source": [
    "**Exercise 1:** \n",
    "\n",
    "1. Import the nobel price data frame using pandas.\n",
    "\n",
    "2. Explore the data set: \n",
    "\n",
    "    2.1. Print the first five rows of the table.\n",
    "\n",
    "    2.2. Print all the columns in the table.\n",
    "\n",
    "    2.3. Print the types of all the columns in the table.\n",
    "\n",
    "    2.4. Would the describe function give us any useful information of this data? (answer based on the data types of the columns).\n",
    "\n",
    "3. Select only the gender column. Using a lambda function and the filter function, calculate the number and proportion of woman who have won the nobel price.\n",
    "\n",
    "4. Select the column gender and save it in an object called ```g```. Do the same with the column category, and save it in an object called ```c```. Create a new object ```gc = g + c``` and print the content. \n",
    "\n",
    "5. Use the object ```gc```, a lambda function and the filter function to calculate the number and proportion of females that have won the economics novel price. Compare that number with the total number of females that have won any nobel price (from question 3) "
   ]
  },
  {
   "cell_type": "code",
   "execution_count": 14,
   "metadata": {},
   "outputs": [],
   "source": [
    "import pandas as pd\n",
    "import os\n",
    "os.getcwd()\n",
    "# Question 1\n",
    "nobel = pd.read_csv('data/nobel_prize.csv')"
   ]
  },
  {
   "cell_type": "code",
   "execution_count": 23,
   "metadata": {},
   "outputs": [
    {
     "data": {
      "text/plain": [
       "index                  int64\n",
       "id                     int64\n",
       "firstname             object\n",
       "surname               object\n",
       "born                  object\n",
       "died                  object\n",
       "bornCountry           object\n",
       "bornCountryCode       object\n",
       "bornCity              object\n",
       "diedCountry           object\n",
       "diedCountryCode       object\n",
       "diedCity              object\n",
       "gender                object\n",
       "year                 float64\n",
       "category              object\n",
       "overallMotivation     object\n",
       "share                float64\n",
       "motivation            object\n",
       "name                  object\n",
       "city                  object\n",
       "country               object\n",
       "dtype: object"
      ]
     },
     "execution_count": 23,
     "metadata": {},
     "output_type": "execute_result"
    }
   ],
   "source": [
    "# Question 2.1\n",
    "nobel.head()\n",
    "# Question 2.2\n",
    "nobel.columns\n",
    "# Question 2.3\n",
    "nobel.dtypes\n",
    "# Question 2.4"
   ]
  },
  {
   "cell_type": "markdown",
   "metadata": {},
   "source": [
    "The describe function wouldn't give us any useful information because the columns are objects and not floats/integers"
   ]
  },
  {
   "cell_type": "code",
   "execution_count": 27,
   "metadata": {},
   "outputs": [
    {
     "data": {
      "text/plain": [
       "50"
      ]
     },
     "execution_count": 27,
     "metadata": {},
     "output_type": "execute_result"
    }
   ],
   "source": [
    "# Question 3\n",
    "g = nobel['gender']\n",
    "women = list(filter(lambda x: x == 'female', g))\n",
    "len(women)"
   ]
  },
  {
   "cell_type": "code",
   "execution_count": 29,
   "metadata": {},
   "outputs": [
    {
     "name": "stdout",
     "output_type": "stream",
     "text": [
      "0      femaleeconomics\n",
      "1      femaleeconomics\n",
      "2          femalepeace\n",
      "3      femalechemistry\n",
      "4       femalemedicine\n",
      "            ...       \n",
      "967           orgpeace\n",
      "968           orgpeace\n",
      "969           orgpeace\n",
      "970           orgpeace\n",
      "971           orgpeace\n",
      "Length: 972, dtype: object\n"
     ]
    }
   ],
   "source": [
    "# Question 4\n",
    "c = nobel['category']\n",
    "gc = g + c\n",
    "print(gc)"
   ]
  },
  {
   "cell_type": "code",
   "execution_count": 30,
   "metadata": {},
   "outputs": [
    {
     "data": {
      "text/plain": [
       "2"
      ]
     },
     "execution_count": 30,
     "metadata": {},
     "output_type": "execute_result"
    }
   ],
   "source": [
    "# Question 5\n",
    "femecon = list(filter(lambda x: x == 'femaleeconomics', gc))\n",
    "len(femecon)"
   ]
  },
  {
   "cell_type": "markdown",
   "metadata": {},
   "source": [
    "4% of women that won the nobel prize won it for economics."
   ]
  }
 ],
 "metadata": {
  "kernelspec": {
   "display_name": "conda_amazonei_mxnet_p36",
   "language": "python",
   "name": "conda_amazonei_mxnet_p36"
  },
  "language_info": {
   "codemirror_mode": {
    "name": "ipython",
    "version": 3
   },
   "file_extension": ".py",
   "mimetype": "text/x-python",
   "name": "python",
   "nbconvert_exporter": "python",
   "pygments_lexer": "ipython3",
   "version": "3.6.13"
  },
  "vscode": {
   "interpreter": {
    "hash": "11838f79d2aaadbfa3a2adfaf35bacdebdb4e8d9b63957ddf298964812544a76"
   }
  }
 },
 "nbformat": 4,
 "nbformat_minor": 4
}
